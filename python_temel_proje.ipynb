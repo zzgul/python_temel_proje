{
 "cells": [
  {
   "cell_type": "code",
   "execution_count": 2,
   "id": "04d24951-c147-41d6-a365-c5782cf8765a",
   "metadata": {},
   "outputs": [
    {
     "name": "stdout",
     "output_type": "stream",
     "text": [
      "[1, 'a', 'cat', 2, 3, 'dog', 4, 5]\n"
     ]
    }
   ],
   "source": [
    "from collections.abc import Iterable\n",
    "def flatten(lst):\n",
    "    result = [] \n",
    "    for item in lst:   \n",
    "        if isinstance(item, Iterable) and not isinstance(item, (str, bytes)):  #eğer eleman iterable(yinelebilir) ise ve aynı zamanda str veya bytes değilse\n",
    "                                                                               #elemanı tekrardan flatten fonksiyonuna gönderiyoruz. str ve bytes yinelenebilir\n",
    "                                                                               #nesnelerdir\n",
    "            result.extend(flatten(item))\n",
    "        else:\n",
    "            result.append(item)      #eleman yinelenebilir değilse doğrudan result listesine eklenir\n",
    "    return result\n",
    "\n",
    "nested_list = [[1, 'a', ['cat'], 2], [[[3]], 'dog'], 4, 5]\n",
    "flattened_result = flatten(nested_list)\n",
    "print(flattened_result)"
   ]
  },
  {
   "cell_type": "code",
   "execution_count": 3,
   "id": "02af20f1-e173-4a30-9109-ed545fc6a4bb",
   "metadata": {},
   "outputs": [
    {
     "name": "stdout",
     "output_type": "stream",
     "text": [
      "[[7, 6, 5], [4, 3], [2, 1]]\n"
     ]
    }
   ],
   "source": [
    "def deep_reverse(lst):\n",
    "    if isinstance(lst, list):\n",
    "        return [deep_reverse(item) for item in lst[::-1]]   #lst[::-1] : listenin elemanlarını ters çevirir ve her bir elemanı deep_reverse fonksiyonuna tekrar gönderir\n",
    "                                                            #eğer giriş bir liste değilse doğrudan geri döndürür\n",
    "    return lst\n",
    "\n",
    "nested_list2 = [[1, 2], [3, 4], [5, 6, 7]]\n",
    "reversed_result = deep_reverse(nested_list2) \n",
    "print(reversed_result)"
   ]
  },
  {
   "cell_type": "code",
   "execution_count": null,
   "id": "5539563a-9888-4366-9b30-412ceea79cbd",
   "metadata": {},
   "outputs": [],
   "source": []
  }
 ],
 "metadata": {
  "kernelspec": {
   "display_name": "Python 3 (ipykernel)",
   "language": "python",
   "name": "python3"
  },
  "language_info": {
   "codemirror_mode": {
    "name": "ipython",
    "version": 3
   },
   "file_extension": ".py",
   "mimetype": "text/x-python",
   "name": "python",
   "nbconvert_exporter": "python",
   "pygments_lexer": "ipython3",
   "version": "3.13.2"
  }
 },
 "nbformat": 4,
 "nbformat_minor": 5
}
